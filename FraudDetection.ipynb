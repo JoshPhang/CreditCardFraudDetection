{
 "cells": [
  {
   "cell_type": "markdown",
   "metadata": {},
   "source": [
    "1. Importing Data"
   ]
  },
  {
   "cell_type": "code",
   "execution_count": 20,
   "metadata": {},
   "outputs": [],
   "source": [
    "import pandas as pd\n",
    "import numpy as np\n",
    "\n",
    "from sklearn.model_selection import train_test_split\n",
    "from sklearn import preprocessing\n",
    "from sklearn.feature_selection import chi2, RFE\n",
    "from sklearn.svm import SVR"
   ]
  },
  {
   "cell_type": "code",
   "execution_count": 21,
   "metadata": {},
   "outputs": [
    {
     "data": {
      "text/html": [
       "<div>\n",
       "<style scoped>\n",
       "    .dataframe tbody tr th:only-of-type {\n",
       "        vertical-align: middle;\n",
       "    }\n",
       "\n",
       "    .dataframe tbody tr th {\n",
       "        vertical-align: top;\n",
       "    }\n",
       "\n",
       "    .dataframe thead th {\n",
       "        text-align: right;\n",
       "    }\n",
       "</style>\n",
       "<table border=\"1\" class=\"dataframe\">\n",
       "  <thead>\n",
       "    <tr style=\"text-align: right;\">\n",
       "      <th></th>\n",
       "      <th>Time</th>\n",
       "      <th>V1</th>\n",
       "      <th>V2</th>\n",
       "      <th>V3</th>\n",
       "      <th>V4</th>\n",
       "      <th>V5</th>\n",
       "      <th>V6</th>\n",
       "      <th>V7</th>\n",
       "      <th>V8</th>\n",
       "      <th>V9</th>\n",
       "      <th>...</th>\n",
       "      <th>V21</th>\n",
       "      <th>V22</th>\n",
       "      <th>V23</th>\n",
       "      <th>V24</th>\n",
       "      <th>V25</th>\n",
       "      <th>V26</th>\n",
       "      <th>V27</th>\n",
       "      <th>V28</th>\n",
       "      <th>Amount</th>\n",
       "      <th>Class</th>\n",
       "    </tr>\n",
       "  </thead>\n",
       "  <tbody>\n",
       "    <tr>\n",
       "      <th>0</th>\n",
       "      <td>0.0</td>\n",
       "      <td>-1.359807</td>\n",
       "      <td>-0.072781</td>\n",
       "      <td>2.536347</td>\n",
       "      <td>1.378155</td>\n",
       "      <td>-0.338321</td>\n",
       "      <td>0.462388</td>\n",
       "      <td>0.239599</td>\n",
       "      <td>0.098698</td>\n",
       "      <td>0.363787</td>\n",
       "      <td>...</td>\n",
       "      <td>-0.018307</td>\n",
       "      <td>0.277838</td>\n",
       "      <td>-0.110474</td>\n",
       "      <td>0.066928</td>\n",
       "      <td>0.128539</td>\n",
       "      <td>-0.189115</td>\n",
       "      <td>0.133558</td>\n",
       "      <td>-0.021053</td>\n",
       "      <td>149.62</td>\n",
       "      <td>0</td>\n",
       "    </tr>\n",
       "    <tr>\n",
       "      <th>1</th>\n",
       "      <td>0.0</td>\n",
       "      <td>1.191857</td>\n",
       "      <td>0.266151</td>\n",
       "      <td>0.166480</td>\n",
       "      <td>0.448154</td>\n",
       "      <td>0.060018</td>\n",
       "      <td>-0.082361</td>\n",
       "      <td>-0.078803</td>\n",
       "      <td>0.085102</td>\n",
       "      <td>-0.255425</td>\n",
       "      <td>...</td>\n",
       "      <td>-0.225775</td>\n",
       "      <td>-0.638672</td>\n",
       "      <td>0.101288</td>\n",
       "      <td>-0.339846</td>\n",
       "      <td>0.167170</td>\n",
       "      <td>0.125895</td>\n",
       "      <td>-0.008983</td>\n",
       "      <td>0.014724</td>\n",
       "      <td>2.69</td>\n",
       "      <td>0</td>\n",
       "    </tr>\n",
       "    <tr>\n",
       "      <th>2</th>\n",
       "      <td>1.0</td>\n",
       "      <td>-1.358354</td>\n",
       "      <td>-1.340163</td>\n",
       "      <td>1.773209</td>\n",
       "      <td>0.379780</td>\n",
       "      <td>-0.503198</td>\n",
       "      <td>1.800499</td>\n",
       "      <td>0.791461</td>\n",
       "      <td>0.247676</td>\n",
       "      <td>-1.514654</td>\n",
       "      <td>...</td>\n",
       "      <td>0.247998</td>\n",
       "      <td>0.771679</td>\n",
       "      <td>0.909412</td>\n",
       "      <td>-0.689281</td>\n",
       "      <td>-0.327642</td>\n",
       "      <td>-0.139097</td>\n",
       "      <td>-0.055353</td>\n",
       "      <td>-0.059752</td>\n",
       "      <td>378.66</td>\n",
       "      <td>0</td>\n",
       "    </tr>\n",
       "    <tr>\n",
       "      <th>3</th>\n",
       "      <td>1.0</td>\n",
       "      <td>-0.966272</td>\n",
       "      <td>-0.185226</td>\n",
       "      <td>1.792993</td>\n",
       "      <td>-0.863291</td>\n",
       "      <td>-0.010309</td>\n",
       "      <td>1.247203</td>\n",
       "      <td>0.237609</td>\n",
       "      <td>0.377436</td>\n",
       "      <td>-1.387024</td>\n",
       "      <td>...</td>\n",
       "      <td>-0.108300</td>\n",
       "      <td>0.005274</td>\n",
       "      <td>-0.190321</td>\n",
       "      <td>-1.175575</td>\n",
       "      <td>0.647376</td>\n",
       "      <td>-0.221929</td>\n",
       "      <td>0.062723</td>\n",
       "      <td>0.061458</td>\n",
       "      <td>123.50</td>\n",
       "      <td>0</td>\n",
       "    </tr>\n",
       "    <tr>\n",
       "      <th>4</th>\n",
       "      <td>2.0</td>\n",
       "      <td>-1.158233</td>\n",
       "      <td>0.877737</td>\n",
       "      <td>1.548718</td>\n",
       "      <td>0.403034</td>\n",
       "      <td>-0.407193</td>\n",
       "      <td>0.095921</td>\n",
       "      <td>0.592941</td>\n",
       "      <td>-0.270533</td>\n",
       "      <td>0.817739</td>\n",
       "      <td>...</td>\n",
       "      <td>-0.009431</td>\n",
       "      <td>0.798278</td>\n",
       "      <td>-0.137458</td>\n",
       "      <td>0.141267</td>\n",
       "      <td>-0.206010</td>\n",
       "      <td>0.502292</td>\n",
       "      <td>0.219422</td>\n",
       "      <td>0.215153</td>\n",
       "      <td>69.99</td>\n",
       "      <td>0</td>\n",
       "    </tr>\n",
       "  </tbody>\n",
       "</table>\n",
       "<p>5 rows × 31 columns</p>\n",
       "</div>"
      ],
      "text/plain": [
       "   Time        V1        V2        V3        V4        V5        V6        V7  \\\n",
       "0   0.0 -1.359807 -0.072781  2.536347  1.378155 -0.338321  0.462388  0.239599   \n",
       "1   0.0  1.191857  0.266151  0.166480  0.448154  0.060018 -0.082361 -0.078803   \n",
       "2   1.0 -1.358354 -1.340163  1.773209  0.379780 -0.503198  1.800499  0.791461   \n",
       "3   1.0 -0.966272 -0.185226  1.792993 -0.863291 -0.010309  1.247203  0.237609   \n",
       "4   2.0 -1.158233  0.877737  1.548718  0.403034 -0.407193  0.095921  0.592941   \n",
       "\n",
       "         V8        V9  ...       V21       V22       V23       V24       V25  \\\n",
       "0  0.098698  0.363787  ... -0.018307  0.277838 -0.110474  0.066928  0.128539   \n",
       "1  0.085102 -0.255425  ... -0.225775 -0.638672  0.101288 -0.339846  0.167170   \n",
       "2  0.247676 -1.514654  ...  0.247998  0.771679  0.909412 -0.689281 -0.327642   \n",
       "3  0.377436 -1.387024  ... -0.108300  0.005274 -0.190321 -1.175575  0.647376   \n",
       "4 -0.270533  0.817739  ... -0.009431  0.798278 -0.137458  0.141267 -0.206010   \n",
       "\n",
       "        V26       V27       V28  Amount  Class  \n",
       "0 -0.189115  0.133558 -0.021053  149.62      0  \n",
       "1  0.125895 -0.008983  0.014724    2.69      0  \n",
       "2 -0.139097 -0.055353 -0.059752  378.66      0  \n",
       "3 -0.221929  0.062723  0.061458  123.50      0  \n",
       "4  0.502292  0.219422  0.215153   69.99      0  \n",
       "\n",
       "[5 rows x 31 columns]"
      ]
     },
     "execution_count": 21,
     "metadata": {},
     "output_type": "execute_result"
    }
   ],
   "source": [
    "data = pd.read_csv('creditcard.csv')\n",
    "data.head()"
   ]
  },
  {
   "cell_type": "code",
   "execution_count": 22,
   "metadata": {},
   "outputs": [],
   "source": [
    "X = data.iloc[:, :-1].values\n",
    "y= data.iloc[:, -1].values\n",
    "\n",
    "X_train, X_test, y_train, y_test = train_test_split(X,y, test_size = 0.2, random_state = 24)"
   ]
  },
  {
   "cell_type": "markdown",
   "metadata": {},
   "source": [
    "2. Feature Selection"
   ]
  },
  {
   "cell_type": "code",
   "execution_count": 23,
   "metadata": {},
   "outputs": [],
   "source": [
    "feature_names =data.iloc[:,:-1].columns.tolist()"
   ]
  },
  {
   "cell_type": "markdown",
   "metadata": {},
   "source": [
    "2.1 Filter Based - Chi2"
   ]
  },
  {
   "cell_type": "code",
   "execution_count": 5,
   "metadata": {},
   "outputs": [
    {
     "name": "stdout",
     "output_type": "stream",
     "text": [
      "Sorted feature importance based on Chi Squared Sampling with p-value < 0.05\n",
      "V11 6.857346285969892e-18\n",
      "V4 3.2466106406626534e-15\n",
      "V14 5.33468861116989e-09\n",
      "V12 2.209593337218608e-08\n",
      "V17 4.057242893927253e-06\n",
      "V16 5.065075375448827e-06\n",
      "V18 0.00019504112624765536\n",
      "V3 0.00035113655296078094\n",
      "V10 0.0013208361987978826\n",
      "V9 0.010453046661029556\n",
      "Time 0.016809308099405097\n"
     ]
    }
   ],
   "source": [
    "# Runtime: 0.2s\n",
    "\n",
    "# Scale features to [0,1] because chi2 needs non-negative data\n",
    "min_max_scaler = preprocessing.MinMaxScaler()\n",
    "X_train_minmax = min_max_scaler.fit_transform(X_train)\n",
    "\n",
    "chi2_stats, p_values = chi2(X_train_minmax, y_train)\n",
    "\n",
    "feature_dict={}\n",
    "\n",
    "for feature, (name, score) in enumerate(zip(feature_names, p_values)):\n",
    "    feature_dict[name]=score\n",
    "\n",
    "from collections import OrderedDict\n",
    "sorted_dict = OrderedDict(sorted(feature_dict.items(), key=lambda item: item[1],reverse=False))\n",
    "\n",
    "print(\"Sorted feature importance based on Chi Squared Sampling with p-value < 0.05\")\n",
    "\n",
    "for key, value in sorted_dict.items():\n",
    "    if(value < 0.05):\n",
    "        print(key, value)\n"
   ]
  },
  {
   "cell_type": "markdown",
   "metadata": {},
   "source": [
    "2.2 Wrapper Based - RFE"
   ]
  },
  {
   "cell_type": "code",
   "execution_count": null,
   "metadata": {},
   "outputs": [],
   "source": [
    "# Runtime: 9249m 41.2s\n",
    "\n",
    "estimator = SVR(kernel=\"linear\")\n",
    "selector = RFE(estimator, n_features_to_select=10, step=1)\n",
    "selector = selector.fit(X_train, y_train)\n",
    "\n",
    "print(selector.support_)\n",
    "print(selector.ranking_)"
   ]
  },
  {
   "cell_type": "markdown",
   "metadata": {},
   "source": [
    "2.3 Embedded - Lasso"
   ]
  },
  {
   "cell_type": "code",
   "execution_count": 6,
   "metadata": {},
   "outputs": [
    {
     "name": "stdout",
     "output_type": "stream",
     "text": [
      "Sorted feature importance based on Lasso Sampling with > 0.001 importance\n",
      "V17 0.016004886299267197\n",
      "V14 0.013116125436766254\n",
      "V12 0.010802915286500138\n",
      "V16 0.009264501783026987\n",
      "V10 0.008034661364155178\n",
      "V7 0.007014965192659915\n",
      "V11 0.006234458212765286\n",
      "V18 0.00562023705290844\n",
      "V3 0.005010061281942615\n",
      "V4 0.00371689744211586\n",
      "V9 0.0035992936574496233\n",
      "V2 0.0030209233632844785\n",
      "V5 0.0022094546452647488\n",
      "V21 0.0020169963587593734\n",
      "V1 0.0018854377982463798\n",
      "V19 0.0018367702201415538\n",
      "V6 0.0016840576219361043\n",
      "V27 0.0014736049806057573\n",
      "V28 0.0010666184125419369\n"
     ]
    }
   ],
   "source": [
    "from sklearn.linear_model import Lasso\n",
    "from collections import OrderedDict\n",
    "\n",
    "# Initializing the Model\n",
    "lasso = Lasso(1e-5)\n",
    "\n",
    "# GridSearchCV with model, params and folds.\n",
    "lasso.fit(X_train, y_train)\n",
    "\n",
    "feature_dict={}\n",
    "\n",
    "for feature, (name, score) in enumerate(zip(feature_names, np.abs(lasso.coef_))):\n",
    "    feature_dict[name]=score\n",
    "\n",
    "sorted_dict = OrderedDict(sorted(feature_dict.items(), key=lambda item: item[1],reverse=True))\n",
    "\n",
    "print(\"Sorted feature importance based on Lasso Sampling with > 0.001 importance\")\n",
    "for key, value in sorted_dict.items():\n",
    "    if(value > 0.001):\n",
    "        print(key, value)"
   ]
  },
  {
   "cell_type": "code",
   "execution_count": 7,
   "metadata": {},
   "outputs": [],
   "source": [
    "from sklearn.ensemble import RandomForestClassifier\n",
    "from sklearn.linear_model import LogisticRegression\n",
    "from sklearn.neural_network import MLPClassifier\n",
    "from sklearn.tree import DecisionTreeClassifier\n",
    "from sklearn.metrics import f1_score\n",
    "\n",
    "def modelAnalyzer(X_train, X_test, y_train, y_test):\n",
    "    rf = RandomForestClassifier(random_state = 24)\n",
    "    lgr = LogisticRegression(random_state = 24)\n",
    "    mlp = MLPClassifier(random_state = 24)\n",
    "    dt = DecisionTreeClassifier(random_state = 24)\n",
    "\n",
    "    models = [rf, lgr, mlp, dt]\n",
    "    model_dict={0:'RandomForestClassifier',1:'LogisticRegression',2:'MLPClassifier',3:'DecisionTreeClassifier'}\n",
    "\n",
    "    results = {}\n",
    "\n",
    "    for i,model in enumerate(models):\n",
    "        model.fit(X_train, y_train)\n",
    "        y_pred = model.predict(X_train)\n",
    "        f1_train=f1_score(y_train,y_pred)\n",
    "\n",
    "        pred_test=model.predict(X_test)\n",
    "        f1_test=f1_score(y_test,pred_test)\n",
    "\n",
    "        print(\"{} F1 Score:\".format(model_dict[i]))\n",
    "        print(f\"train_f1:{f1_train:.5f}\")\n",
    "        print(f\"test_f1:{f1_test:.5f}\\n\")\n",
    "        results[model_dict[i]] = f1_test\n",
    "\n",
    "    return results"
   ]
  },
  {
   "cell_type": "code",
   "execution_count": 17,
   "metadata": {},
   "outputs": [
    {
     "name": "stdout",
     "output_type": "stream",
     "text": [
      "RandomForestClassifier F1 Score:\n",
      "train_f1:1.00000\n",
      "test_f1:0.79808\n",
      "\n"
     ]
    },
    {
     "name": "stderr",
     "output_type": "stream",
     "text": [
      "C:\\Users\\Joshua\\AppData\\Local\\Packages\\PythonSoftwareFoundation.Python.3.12_qbz5n2kfra8p0\\LocalCache\\local-packages\\Python312\\site-packages\\sklearn\\linear_model\\_logistic.py:469: ConvergenceWarning: lbfgs failed to converge (status=1):\n",
      "STOP: TOTAL NO. of ITERATIONS REACHED LIMIT.\n",
      "\n",
      "Increase the number of iterations (max_iter) or scale the data as shown in:\n",
      "    https://scikit-learn.org/stable/modules/preprocessing.html\n",
      "Please also refer to the documentation for alternative solver options:\n",
      "    https://scikit-learn.org/stable/modules/linear_model.html#logistic-regression\n",
      "  n_iter_i = _check_optimize_result(\n"
     ]
    },
    {
     "name": "stdout",
     "output_type": "stream",
     "text": [
      "LogisticRegression F1 Score:\n",
      "train_f1:0.66856\n",
      "test_f1:0.59223\n",
      "\n",
      "MLPClassifier F1 Score:\n",
      "train_f1:0.66922\n",
      "test_f1:0.62979\n",
      "\n",
      "DecisionTreeClassifier F1 Score:\n",
      "train_f1:1.00000\n",
      "test_f1:0.71552\n",
      "\n"
     ]
    }
   ],
   "source": [
    "base_score = modelAnalyzer(X_train, X_test, y_train, y_test)"
   ]
  },
  {
   "cell_type": "markdown",
   "metadata": {},
   "source": [
    "3.0 Get data fields"
   ]
  },
  {
   "cell_type": "code",
   "execution_count": 10,
   "metadata": {},
   "outputs": [
    {
     "name": "stdout",
     "output_type": "stream",
     "text": [
      "RandomForestClassifier F1 Score:\n",
      "train_f1:1.00000\n",
      "test_f1:0.81132\n",
      "\n"
     ]
    },
    {
     "name": "stderr",
     "output_type": "stream",
     "text": [
      "C:\\Users\\Joshua\\AppData\\Local\\Packages\\PythonSoftwareFoundation.Python.3.12_qbz5n2kfra8p0\\LocalCache\\local-packages\\Python312\\site-packages\\sklearn\\linear_model\\_logistic.py:469: ConvergenceWarning: lbfgs failed to converge (status=1):\n",
      "STOP: TOTAL NO. of ITERATIONS REACHED LIMIT.\n",
      "\n",
      "Increase the number of iterations (max_iter) or scale the data as shown in:\n",
      "    https://scikit-learn.org/stable/modules/preprocessing.html\n",
      "Please also refer to the documentation for alternative solver options:\n",
      "    https://scikit-learn.org/stable/modules/linear_model.html#logistic-regression\n",
      "  n_iter_i = _check_optimize_result(\n"
     ]
    },
    {
     "name": "stdout",
     "output_type": "stream",
     "text": [
      "LogisticRegression F1 Score:\n",
      "train_f1:0.70138\n",
      "test_f1:0.66304\n",
      "\n",
      "MLPClassifier F1 Score:\n",
      "train_f1:0.04592\n",
      "test_f1:0.01681\n",
      "\n",
      "DecisionTreeClassifier F1 Score:\n",
      "train_f1:1.00000\n",
      "test_f1:0.76233\n",
      "\n"
     ]
    }
   ],
   "source": [
    "# Chi2 Feature Selection\n",
    "# Sorted feature importance based on Chi Squared Sampling with p-value < 0.05\n",
    "# V11 1.1625016088982962e-16\n",
    "# V4 3.896224045410223e-15\n",
    "# V14 9.55050954444407e-09\n",
    "# V12 3.180737932355083e-08\n",
    "# V17 1.7572094650447125e-05\n",
    "# V16 0.0001696850178127307\n",
    "# V18 0.00029138722000186763\n",
    "# V10 0.0015501771988898833\n",
    "# V3 0.009639517281485386\n",
    "# V9 0.013882236970447126\n",
    "# Time 0.027349413572258584\n",
    "\n",
    "X_chi2 = data.loc[:, ['V11', 'V4', 'V14', 'V12', 'V17', 'V16', 'V18', 'V10', 'V3', 'V9', 'Time']]\n",
    "\n",
    "X_train_chi2, X_test_chi2, y_train_chi2, y_test_chi2 = train_test_split(X_chi2,y, test_size = 0.2, random_state = 24)\n",
    "\n",
    "chi2_f1_score = modelAnalyzer(X_train_chi2, X_test_chi2, y_train_chi2, y_test_chi2)"
   ]
  },
  {
   "cell_type": "code",
   "execution_count": 11,
   "metadata": {},
   "outputs": [
    {
     "name": "stdout",
     "output_type": "stream",
     "text": [
      "RandomForestClassifier F1 Score:\n",
      "train_f1:1.00000\n",
      "test_f1:0.82692\n",
      "\n",
      "LogisticRegression F1 Score:\n",
      "train_f1:0.72013\n",
      "test_f1:0.69519\n",
      "\n",
      "MLPClassifier F1 Score:\n",
      "train_f1:0.87052\n",
      "test_f1:0.80751\n",
      "\n",
      "DecisionTreeClassifier F1 Score:\n",
      "train_f1:1.00000\n",
      "test_f1:0.73059\n",
      "\n"
     ]
    }
   ],
   "source": [
    "# RFE Feature Selection\n",
    "# [False False False  True  True False False  True False  True  True False\n",
    "#  False  True  True False  True  True  True False False False False False\n",
    "#  False False False False False False]\n",
    "# [21 13 17  1  1  9 11  1 16  1  1  4 12  1  1  8  1  1  1  2  7  3 15 18\n",
    "#  19 14 10  5  6 20]\n",
    "\n",
    "X_rfe = data.iloc[:, [3,4,7,9,10,13,14,16,17,18]]\n",
    "\n",
    "X_train_rfe, X_test_rfe, y_train_rfe, y_test_rfe = train_test_split(X_rfe,y, test_size = 0.2, random_state = 24)\n",
    "\n",
    "rfe_f1_score = modelAnalyzer(X_train_rfe, X_test_rfe, y_train_rfe, y_test_rfe)"
   ]
  },
  {
   "cell_type": "code",
   "execution_count": 12,
   "metadata": {},
   "outputs": [
    {
     "name": "stdout",
     "output_type": "stream",
     "text": [
      "RandomForestClassifier F1 Score:\n",
      "train_f1:1.00000\n",
      "test_f1:0.79621\n",
      "\n",
      "LogisticRegression F1 Score:\n",
      "train_f1:0.71384\n",
      "test_f1:0.67391\n",
      "\n",
      "MLPClassifier F1 Score:\n",
      "train_f1:0.89733\n",
      "test_f1:0.80583\n",
      "\n",
      "DecisionTreeClassifier F1 Score:\n",
      "train_f1:1.00000\n",
      "test_f1:0.72889\n",
      "\n"
     ]
    }
   ],
   "source": [
    "# Lasso Feature Selection\n",
    "# Sorted feature importance based on Lasso Sampling with > 0.001 importance\n",
    "# V17 0.016004886299267197\n",
    "# V14 0.013116125436766254\n",
    "# V12 0.010802915286500138\n",
    "# V16 0.009264501783026992\n",
    "# V10 0.008034661364155177\n",
    "# V7 0.00701496519265991\n",
    "# V11 0.006234458212765289\n",
    "# V18 0.005620237052908439\n",
    "# V3 0.005010061281942614\n",
    "# V4 0.0037168974421158602\n",
    "# V9 0.0035992936574496225\n",
    "# V2 0.003020923363284476\n",
    "# V5 0.002209454645264749\n",
    "# V21 0.0020169963587593725\n",
    "# V1 0.0018854377982463792\n",
    "# V19 0.0018367702201415531\n",
    "# V6 0.0016840576219361047\n",
    "# V27 0.0014736049806057577\n",
    "# V28 0.0010666184125419354\n",
    "\n",
    "\n",
    "X_lasso = data.loc[:, ['V17', 'V14', 'V12', 'V16', 'V10', 'V7', 'V11', 'V18', 'V3', 'V4', 'V9', 'V2', 'V5', 'V21', 'V1', 'V19', 'V6', 'V27', 'V28']]\n",
    "\n",
    "X_train_lasso, X_test_lasso, y_train_lasso, y_test_lasso = train_test_split(X_lasso,y, test_size = 0.2, random_state = 24)\n",
    "\n",
    "lasso_f1_score = modelAnalyzer(X_train_lasso, X_test_lasso, y_train_lasso, y_test_lasso)"
   ]
  },
  {
   "cell_type": "code",
   "execution_count": 13,
   "metadata": {},
   "outputs": [
    {
     "name": "stdout",
     "output_type": "stream",
     "text": [
      "Majority Vote features:  dict_keys(['V11', 'V4', 'V14', 'V12', 'V17', 'V16', 'V18', 'V10', 'V3', 'V9'])\n",
      "RandomForestClassifier F1 Score:\n",
      "train_f1:1.00000\n",
      "test_f1:0.81517\n",
      "\n",
      "LogisticRegression F1 Score:\n",
      "train_f1:0.71586\n",
      "test_f1:0.68108\n",
      "\n",
      "MLPClassifier F1 Score:\n",
      "train_f1:0.84254\n",
      "test_f1:0.79452\n",
      "\n",
      "DecisionTreeClassifier F1 Score:\n",
      "train_f1:1.00000\n",
      "test_f1:0.73636\n",
      "\n"
     ]
    }
   ],
   "source": [
    "# Majority Voting\n",
    "\n",
    "f_dict = {}\n",
    "\n",
    "for i,feature in enumerate(X_chi2.columns):\n",
    "    f_dict[feature] = 1\n",
    "for i,feature in enumerate(X_rfe.columns):\n",
    "    if feature in f_dict.keys():\n",
    "        f_dict[feature] += 1\n",
    "for i,feature in enumerate(X_lasso.columns):\n",
    "    if feature in f_dict.keys():\n",
    "        f_dict[feature] += 1\n",
    "\n",
    "majority_dict = {}\n",
    "for key,value in f_dict.items():\n",
    "    if value > 1:\n",
    "        majority_dict[key] = value\n",
    "print(\"Majority Vote features: \", majority_dict.keys())\n",
    "\n",
    "X_majVote = data.loc[:, majority_dict.keys()]\n",
    "X_train_majVote, X_test_majVote, y_train_majVote, y_test_majVote = train_test_split(X_majVote,y, test_size = 0.2, random_state = 24)\n",
    "\n",
    "majority_f1_score = modelAnalyzer(X_train_majVote, X_test_majVote, y_train_majVote, y_test_majVote)"
   ]
  },
  {
   "cell_type": "markdown",
   "metadata": {},
   "source": [
    "F1 Plots"
   ]
  },
  {
   "cell_type": "code",
   "execution_count": 16,
   "metadata": {},
   "outputs": [
    {
     "data": {
      "image/png": "[encoded data removed]",
      "text/plain": [
       "<Figure size 1500x500 with 4 Axes>"
      ]
     },
     "metadata": {},
     "output_type": "display_data"
    }
   ],
   "source": [
    "import matplotlib.pyplot as plt\n",
    "\n",
    "# RF\n",
    "x = ['Chi2', 'RFE', 'Lasso', 'MV']\n",
    "y = [chi2_f1_score['RandomForestClassifier'], rfe_f1_score['RandomForestClassifier'], lasso_f1_score['RandomForestClassifier'], majority_f1_score['RandomForestClassifier']]\n",
    "\n",
    "fig, (ax1, ax2, ax3, ax4) = plt.subplots(1,4)\n",
    "plt.subplot(1,4,1)\n",
    "\n",
    "ax1.bar(x, y, width=1, edgecolor=\"white\", linewidth=0.7)\n",
    "\n",
    "ax1.set(xlim=(-1, 4),\n",
    "       ylim=(0, 1),\n",
    "       title=\"RF Test Results\")\n",
    "\n",
    "for i in range(len(x)):\n",
    "        plt.text(i,y[i],y[i].round(2))\n",
    "\n",
    "# LR\n",
    "x = ['Chi2', 'RFE', 'Lasso', 'MV']\n",
    "y = [chi2_f1_score['LogisticRegression'], rfe_f1_score['LogisticRegression'], lasso_f1_score['LogisticRegression'], majority_f1_score['LogisticRegression']]\n",
    "\n",
    "plt.subplot(1,4,2)\n",
    "\n",
    "ax2.bar(x, y, width=1, edgecolor=\"white\", linewidth=0.7)\n",
    "\n",
    "ax2.set(xlim=(-1, 4),\n",
    "       ylim=(0, 1),\n",
    "       title=\"LR Test Results\")\n",
    "for i in range(len(x)):\n",
    "        plt.text(i,y[i],y[i].round(2))\n",
    "\n",
    "\n",
    "# MLP\n",
    "y = [chi2_f1_score['MLPClassifier'], rfe_f1_score['MLPClassifier'], lasso_f1_score['MLPClassifier'], majority_f1_score['MLPClassifier']]\n",
    "\n",
    "plt.subplot(1,4,3)\n",
    "\n",
    "ax3.bar(x, y, width=1, edgecolor=\"white\", linewidth=0.7)\n",
    "\n",
    "ax3.set(xlim=(-1, 4),\n",
    "       ylim=(0, 1),\n",
    "       title=\"MLP Test Results\")\n",
    "for i in range(len(x)):\n",
    "        plt.text(i,y[i],y[i].round(2))\n",
    "\n",
    "\n",
    "# DT\n",
    "y = [chi2_f1_score['DecisionTreeClassifier'], rfe_f1_score['DecisionTreeClassifier'], lasso_f1_score['DecisionTreeClassifier'], majority_f1_score['DecisionTreeClassifier']]\n",
    "\n",
    "plt.subplot(1,4,4)\n",
    "\n",
    "ax4.bar(x, y, width=1, edgecolor=\"white\", linewidth=0.7)\n",
    "\n",
    "ax4.set(xlim=(-1, 4),\n",
    "       ylim=(0, 1),\n",
    "       title=\"DT Test Results\")\n",
    "for i in range(len(x)):\n",
    "        plt.text(i,y[i],y[i].round(2))\n",
    "\n",
    "fig.set_figheight(5)\n",
    "fig.set_figwidth(15)\n",
    "plt.show()"
   ]
  },
  {
   "cell_type": "markdown",
   "metadata": {},
   "source": [
    "# Feature Reduction Methods"
   ]
  },
  {
   "cell_type": "code",
   "execution_count": 24,
   "metadata": {},
   "outputs": [
    {
     "name": "stdout",
     "output_type": "stream",
     "text": [
      "RandomForestClassifier F1 Score:\n",
      "train_f1:1.00000\n",
      "test_f1:0.76042\n",
      "\n"
     ]
    },
    {
     "name": "stderr",
     "output_type": "stream",
     "text": [
      "C:\\Users\\Joshua\\AppData\\Local\\Packages\\PythonSoftwareFoundation.Python.3.12_qbz5n2kfra8p0\\LocalCache\\local-packages\\Python312\\site-packages\\sklearn\\linear_model\\_logistic.py:469: ConvergenceWarning: lbfgs failed to converge (status=1):\n",
      "STOP: TOTAL NO. of ITERATIONS REACHED LIMIT.\n",
      "\n",
      "Increase the number of iterations (max_iter) or scale the data as shown in:\n",
      "    https://scikit-learn.org/stable/modules/preprocessing.html\n",
      "Please also refer to the documentation for alternative solver options:\n",
      "    https://scikit-learn.org/stable/modules/linear_model.html#logistic-regression\n",
      "  n_iter_i = _check_optimize_result(\n"
     ]
    },
    {
     "name": "stdout",
     "output_type": "stream",
     "text": [
      "LogisticRegression F1 Score:\n",
      "train_f1:0.55738\n",
      "test_f1:0.51497\n",
      "\n",
      "MLPClassifier F1 Score:\n",
      "train_f1:0.11911\n",
      "test_f1:0.12903\n",
      "\n",
      "DecisionTreeClassifier F1 Score:\n",
      "train_f1:1.00000\n",
      "test_f1:0.67907\n",
      "\n"
     ]
    }
   ],
   "source": [
    "# PCA\n",
    "from sklearn.decomposition import PCA\n",
    "pca = PCA(n_components=10)\n",
    "\n",
    "X_pca = pca.fit_transform(X, y)\n",
    "X_train_pca, X_test_pca, y_train_pca, y_test_pca = train_test_split(X_pca, y, test_size = 0.2, random_state = 24)\n",
    "\n",
    "pca_results = modelAnalyzer(X_train_pca, X_test_pca, y_train_pca, y_test_pca)"
   ]
  },
  {
   "cell_type": "code",
   "execution_count": 27,
   "metadata": {},
   "outputs": [
    {
     "name": "stdout",
     "output_type": "stream",
     "text": [
      "RandomForestClassifier F1 Score:\n",
      "train_f1:0.99733\n",
      "test_f1:0.75676\n",
      "\n",
      "LogisticRegression F1 Score:\n",
      "train_f1:0.67205\n",
      "test_f1:0.64835\n",
      "\n",
      "MLPClassifier F1 Score:\n",
      "train_f1:0.82369\n",
      "test_f1:0.78571\n",
      "\n",
      "DecisionTreeClassifier F1 Score:\n",
      "train_f1:0.99733\n",
      "test_f1:0.75676\n",
      "\n"
     ]
    }
   ],
   "source": [
    "# LDA\n",
    "from sklearn.discriminant_analysis import LinearDiscriminantAnalysis\n",
    "\n",
    "lda = LinearDiscriminantAnalysis()\n",
    "X_lda = lda.fit_transform(X, y)\n",
    "X_train_lda, X_test_lda, y_train_lda, y_test_lda = train_test_split(X_lda, y, test_size = 0.2, random_state = 24)\n",
    "\n",
    "lda_results = modelAnalyzer(X_train_lda, X_test_lda, y_train_lda, y_test_lda)"
   ]
  },
  {
   "cell_type": "code",
   "execution_count": 28,
   "metadata": {},
   "outputs": [
    {
     "name": "stdout",
     "output_type": "stream",
     "text": [
      "RandomForestClassifier F1 Score:\n",
      "train_f1:1.00000\n",
      "test_f1:0.78788\n",
      "\n",
      "LogisticRegression F1 Score:\n",
      "train_f1:0.56376\n",
      "test_f1:0.54438\n",
      "\n",
      "MLPClassifier F1 Score:\n",
      "train_f1:0.84935\n",
      "test_f1:0.78431\n",
      "\n",
      "DecisionTreeClassifier F1 Score:\n",
      "train_f1:1.00000\n",
      "test_f1:0.72398\n",
      "\n"
     ]
    }
   ],
   "source": [
    "# FICA\n",
    "from sklearn.decomposition import FastICA\n",
    "\n",
    "fica = FastICA(n_components=10)\n",
    "X_fica = fica.fit_transform(X)\n",
    "X_train_fica, X_test_fica, y_train_fica, y_test_fica = train_test_split(X_fica, y, test_size = 0.2, random_state = 24)\n",
    "\n",
    "fica_results = modelAnalyzer(X_train_fica, X_test_fica, y_train_fica, y_test_fica)"
   ]
  },
  {
   "cell_type": "markdown",
   "metadata": {},
   "source": [
    "# Feature Reduction Plots"
   ]
  },
  {
   "cell_type": "code",
   "execution_count": 31,
   "metadata": {},
   "outputs": [
    {
     "data": {
      "image/png": "[encoded data removed]",
      "text/plain": [
       "<Figure size 1500x500 with 4 Axes>"
      ]
     },
     "metadata": {},
     "output_type": "display_data"
    }
   ],
   "source": [
    "import matplotlib.pyplot as plt\n",
    "\n",
    "# Random Forest\n",
    "x = ['PCA', 'LDA', 'FICA', 'Base']\n",
    "y = [pca_results['RandomForestClassifier'], lda_results['RandomForestClassifier'], fica_results['RandomForestClassifier'], base_score['RandomForestClassifier']]\n",
    "\n",
    "fig, (ax1, ax2, ax3, ax4) = plt.subplots(1,4)\n",
    "plt.subplot(1, 4, 1)\n",
    "\n",
    "ax1.bar(x, y, width=1, edgecolor=\"white\", linewidth=0.7)\n",
    "\n",
    "ax1.set(xlim=(-1, 4),\n",
    "       ylim=(0, 1),\n",
    "       title=\"RF Test Results\")\n",
    "\n",
    "for i in range(len(x)):\n",
    "        plt.text(i,y[i],y[i].round(2))\n",
    "\n",
    "\n",
    "# Logistic Regression\n",
    "y = [pca_results['LogisticRegression'], lda_results['LogisticRegression'], fica_results['LogisticRegression'], base_score['LogisticRegression']]\n",
    "\n",
    "plt.subplot(1,4,2)\n",
    "\n",
    "ax2.bar(x, y, width=1, edgecolor=\"white\", linewidth=0.7)\n",
    "\n",
    "ax2.set(xlim=(-1, 4),\n",
    "       ylim=(0, 1),\n",
    "       title=\"LR Test Results\")\n",
    "\n",
    "for i in range(len(x)):\n",
    "        plt.text(i,y[i],y[i].round(2))\n",
    "\n",
    "\n",
    "# MLP\n",
    "y = [pca_results['MLPClassifier'], lda_results['MLPClassifier'], fica_results['MLPClassifier'], base_score['MLPClassifier']]\n",
    "\n",
    "plt.subplot(1,4,3)\n",
    "\n",
    "ax3.bar(x, y, width=1, edgecolor=\"white\", linewidth=0.7)\n",
    "\n",
    "ax3.set(xlim=(-1, 4),\n",
    "       ylim=(0, 1),\n",
    "       title=\"MLP Test Results\")\n",
    "\n",
    "for i in range(len(x)):\n",
    "        plt.text(i,y[i],y[i].round(2))\n",
    "\n",
    "\n",
    "# Decision Tree\n",
    "y = [pca_results['DecisionTreeClassifier'], lda_results['DecisionTreeClassifier'], fica_results['DecisionTreeClassifier'], base_score['DecisionTreeClassifier']]\n",
    "\n",
    "plt.subplot(1,4,4)\n",
    "\n",
    "ax4.bar(x, y, width=1, edgecolor=\"white\", linewidth=0.7)\n",
    "\n",
    "ax4.set(xlim=(-1, 4),\n",
    "       ylim=(0, 1),\n",
    "       title=\"DT Test Results\")\n",
    "\n",
    "for i in range(len(x)):\n",
    "        plt.text(i,y[i],y[i].round(2))\n",
    "\n",
    "fig.set_figheight(5)\n",
    "fig.set_figwidth(15)\n",
    "\n",
    "plt.show()"
   ]
  }
 ],
 "metadata": {
  "kernelspec": {
   "display_name": "Python 3",
   "language": "python",
   "name": "python3"
  },
  "language_info": {
   "codemirror_mode": {
    "name": "ipython",
    "version": 3
   },
   "file_extension": ".py",
   "mimetype": "text/x-python",
   "name": "python",
   "nbconvert_exporter": "python",
   "pygments_lexer": "ipython3",
   "version": "3.12.7"
  }
 },
 "nbformat": 4,
 "nbformat_minor": 2
}
